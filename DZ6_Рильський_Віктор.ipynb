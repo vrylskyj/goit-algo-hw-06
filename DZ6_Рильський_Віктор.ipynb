{
  "nbformat": 4,
  "nbformat_minor": 0,
  "metadata": {
    "colab": {
      "provenance": []
    },
    "kernelspec": {
      "name": "python3",
      "display_name": "Python 3"
    },
    "language_info": {
      "name": "python"
    }
  },
  "cells": [
    {
      "cell_type": "code",
      "execution_count": null,
      "metadata": {
        "id": "dEN6pAmiFdsj"
      },
      "outputs": [],
      "source": []
    },
    {
      "cell_type": "code",
      "source": [
        "import networkx as nx\n",
        "import matplotlib.pyplot as plt\n",
        "\n",
        "# Створити об'єкт графу\n",
        "G = nx.Graph()\n",
        "\n",
        "# Додати вершини до графу, які представляють людей\n",
        "peoples = [\"Андрій\", \"Богдан\", \"Василь\", \"Ганна\", \"Дарина\"]\n",
        "G.add_nodes_from(peoples)\n",
        "\n",
        "# Додати ребра до графу, які представляють дружні зв'язки\n",
        "friendly_ties = [\n",
        "    (\"Андрій\", \"Богдан\"),\n",
        "    (\"Андрій\", \"Дарина\"),\n",
        "    (\"Богдан\", \"Василь\"),\n",
        "    (\"Василь\", \"Ганна\"),\n",
        "    (\"Ганна\", \"Дарина\"),\n",
        "]\n",
        "G.add_edges_from(friendly_ties)\n",
        "\n",
        "# Візуалізувати граф\n",
        "nx.draw(G, with_labels=True)\n",
        "plt.show()\n",
        "\n",
        "# Кількість вершин\n",
        "print(\"Кількість вершин:\", G.number_of_nodes())\n",
        "\n",
        "# Кількість ребер\n",
        "print(\"Кількість ребер:\", G.number_of_edges())\n",
        "\n",
        "# Ступінь вершин\n",
        "for node in G.nodes():\n",
        "    degree = G.degree[node]\n",
        "    print(f\"Ступінь вершини {node}: {degree}\")"
      ],
      "metadata": {
        "colab": {
          "base_uri": "https://localhost:8080/",
          "height": 635
        },
        "id": "irCaJ5HgFffK",
        "outputId": "b76faff4-fea1-4eee-f102-4b48768e7f36"
      },
      "execution_count": 27,
      "outputs": [
        {
          "output_type": "display_data",
          "data": {
            "text/plain": [
              "<Figure size 640x480 with 1 Axes>"
            ],
            "image/png": "[encoded data removed]"
          },
          "metadata": {}
        },
        {
          "output_type": "stream",
          "name": "stdout",
          "text": [
            "Кількість вершин: 5\n",
            "Кількість ребер: 5\n",
            "Ступінь вершини Андрій: 2\n",
            "Ступінь вершини Богдан: 2\n",
            "Ступінь вершини Василь: 2\n",
            "Ступінь вершини Ганна: 2\n",
            "Ступінь вершини Дарина: 2\n"
          ]
        }
      ]
    },
    {
      "cell_type": "code",
      "source": [
        "import networkx as nx\n",
        "\n",
        "\n",
        "# Алгоритм DFS\n",
        "def dfs_path(graph, start, end):\n",
        "    visited = set()\n",
        "    stack = [start]\n",
        "\n",
        "    while stack:\n",
        "        node = stack.pop()\n",
        "        if node == end:\n",
        "            return stack + [end]\n",
        "\n",
        "        if node not in visited:\n",
        "            visited.add(node)\n",
        "            for neighbor in graph.neighbors(node):\n",
        "                if neighbor not in visited:\n",
        "                    stack.append(neighbor)\n",
        "\n",
        "    return None\n",
        "\n",
        "\n",
        "# Алгоритм BFS\n",
        "def bfs_path(graph, start, end):\n",
        "    visited = set()\n",
        "    queue = [start]\n",
        "\n",
        "    while queue:\n",
        "        node = queue.pop(0)\n",
        "        if node == end:\n",
        "            return [node] + queue\n",
        "\n",
        "        if node not in visited:\n",
        "            visited.add(node)\n",
        "            for neighbor in graph.neighbors(node):\n",
        "                if neighbor not in visited:\n",
        "                    queue.append(neighbor)\n",
        "\n",
        "    return None\n",
        "\n",
        "\n",
        "# Знайти шляхи DFS та BFS\n",
        "dfs_path = dfs_path(G, \"Андрій\", \"Ганна\")\n",
        "bfs_path = bfs_path(G, \"Андрій\", \"Ганна\")\n",
        "\n",
        "# Порівняння результатів\n",
        "print(\"Шлях DFS:\", dfs_path)\n",
        "print(\"Шлях BFS:\", bfs_path)\n",
        "\n",
        "# Пояснення різниці в шляхах\n",
        "\"\"\"\n",
        "Алгоритм DFS досліджує граф глибиною, спускаючись по одному шляху, поки не знайде кінцевий вузол або не закінчиться тупик.\n",
        "Тому шлях DFS може бути не найкоротшим, але він буде більш детальним, досліджуючи всі можливі гілки.\n",
        "\n",
        "Алгоритм BFS досліджує граф по ширині, досліджуючи всі сусідні вузли на кожному рівні, перш ніж перейти до наступного рівня.\n",
        "Тому шлях BFS буде найкоротшим, але він може не дослідити всі гілки графу.\n",
        "\n",
        "У нашому прикладі шлях DFS (\"Андрій\", \"Богдан\", \"Василь\", \"Ганна\")\n",
        "є довшим, ніж шлях BFS (\"Андрій\", \"Дарина\", \"Ганна\"),\n",
        "тому що DFS досліджує гілку \"Андрій\" -> \"Богдан\" -> \"Василь\",\n",
        "яка не веде до кінцевого вузла \"Ганна\". BFS же шукає найкоротший шлях,\n",
        "тому він досліджує лише гілку \"Андрій\" -> \"Дарина\" -> \"Ганна\".\n",
        "\"\"\"\n"
      ],
      "metadata": {
        "colab": {
          "base_uri": "https://localhost:8080/",
          "height": 122
        },
        "id": "Dg7W_CgjGkvC",
        "outputId": "5edba181-6010-4a9c-fb6e-782c03e0bd5d"
      },
      "execution_count": 19,
      "outputs": [
        {
          "output_type": "stream",
          "name": "stdout",
          "text": [
            "Шлях DFS: ['Богдан', 'Ганна']\n",
            "Шлях BFS: ['Ганна', 'Ганна']\n"
          ]
        },
        {
          "output_type": "execute_result",
          "data": {
            "text/plain": [
              "'\\nАлгоритм DFS досліджує граф глибиною, спускаючись по одному шляху, поки не знайде кінцевий вузол або не закінчиться тупик. \\nТому шлях DFS може бути не найкоротшим, але він буде більш детальним, досліджуючи всі можливі гілки.\\n\\nАлгоритм BFS досліджує граф по ширині, досліджуючи всі сусідні вузли на кожному рівні, перш ніж перейти до наступного рівня. \\nТому шлях BFS буде найкоротшим, але він може не дослідити всі гілки графу.\\n\\nУ нашому прикладі шлях DFS (\"Андрій\", \"Богдан\", \"Василь\", \"Ганна\") \\nє довшим, ніж шлях BFS (\"Андрій\", \"Дарина\", \"Ганна\"), \\nтому що DFS досліджує гілку \"Андрій\" -> \"Богдан\" -> \"Василь\", \\nяка не веде до кінцевого вузла \"Ганна\". BFS же шукає найкоротший шлях, \\nтому він досліджує лише гілку \"Андрій\" -> \"Дарина\" -> \"Ганна\".\\n'"
            ],
            "application/vnd.google.colaboratory.intrinsic+json": {
              "type": "string"
            }
          },
          "metadata": {},
          "execution_count": 19
        }
      ]
    },
    {
      "cell_type": "code",
      "source": [
        "import networkx as nx\n",
        "\n",
        "# Додати ваги до ребер\n",
        "weights = [\n",
        "    (\"Андрій\", \"Богдан\", 2),\n",
        "    (\"Андрій\", \"Дарина\", 1),\n",
        "    (\"Богдан\", \"Василь\", 3),\n",
        "    (\"Василь\", \"Ганна\", 4),\n",
        "    (\"Ганна\", \"Дарина\", 2),\n",
        "]\n",
        "\n",
        "# Встановити ваги ребер за допомогою add_weighted_edges_from\n",
        "G.add_weighted_edges_from(weights)\n",
        "\n",
        "\n",
        "def dijkstra_path(graph, start):\n",
        "    \"\"\"\n",
        "    Функція знаходить найкоротші шляхи від вузла \"start\" до всіх інших вузлів у графі \"graph\".\n",
        "    \"\"\"\n",
        "    distances = {node: float(\"inf\") for node in graph.nodes()}\n",
        "    distances[start] = 0\n",
        "    predecessors = {node: None for node in graph.nodes()}\n",
        "\n",
        "    unvisited = set(graph.nodes())\n",
        "\n",
        "    while unvisited:\n",
        "        current = min(unvisited, key=distances.__getitem__)\n",
        "        unvisited.remove(current)\n",
        "\n",
        "        for neighbor in graph.neighbors(current):\n",
        "            new_distance = distances[current] + graph[current][neighbor][\"weight\"]\n",
        "            if new_distance < distances[neighbor]:\n",
        "                distances[neighbor] = new_distance\n",
        "                predecessors[neighbor] = current\n",
        "\n",
        "    return distances, predecessors\n",
        "\n",
        "\n",
        "# Знайти найкоротші шляхи між всіма вершинами\n",
        "for start in G.nodes():\n",
        "    distances, predecessors = dijkstra_path(G, start)\n",
        "    print(f\"Найкоротші шляхи з {start}:\")\n",
        "    for end in G.nodes():\n",
        "        if end != start:\n",
        "            path = []\n",
        "            current = end\n",
        "            while predecessors[current]:\n",
        "                path.append(current)\n",
        "                current = predecessors[current]\n",
        "            path.reverse()\n",
        "            print(f\"  {end}: {distances[end]} ({' -> '.join(path)})\")\n"
      ],
      "metadata": {
        "colab": {
          "base_uri": "https://localhost:8080/"
        },
        "id": "3drV2YTTL8P0",
        "outputId": "fb25f25c-2569-4fe9-c7e5-ec165ca92fb7"
      },
      "execution_count": 26,
      "outputs": [
        {
          "output_type": "stream",
          "name": "stdout",
          "text": [
            "Найкоротші шляхи з Андрій:\n",
            "  Богдан: 2 (Богдан)\n",
            "  Дарина: 1 (Дарина)\n",
            "  Василь: 5 (Богдан -> Василь)\n",
            "  Ганна: 3 (Дарина -> Ганна)\n",
            "Найкоротші шляхи з Богдан:\n",
            "  Андрій: 2 (Андрій)\n",
            "  Дарина: 3 (Андрій -> Дарина)\n",
            "  Василь: 3 (Василь)\n",
            "  Ганна: 5 (Андрій -> Дарина -> Ганна)\n",
            "Найкоротші шляхи з Дарина:\n",
            "  Андрій: 1 (Андрій)\n",
            "  Богдан: 3 (Андрій -> Богдан)\n",
            "  Василь: 6 (Ганна -> Василь)\n",
            "  Ганна: 2 (Ганна)\n",
            "Найкоротші шляхи з Василь:\n",
            "  Андрій: 5 (Богдан -> Андрій)\n",
            "  Богдан: 3 (Богдан)\n",
            "  Дарина: 6 (Ганна -> Дарина)\n",
            "  Ганна: 4 (Ганна)\n",
            "Найкоротші шляхи з Ганна:\n",
            "  Андрій: 3 (Дарина -> Андрій)\n",
            "  Богдан: 5 (Дарина -> Андрій -> Богдан)\n",
            "  Дарина: 2 (Дарина)\n",
            "  Василь: 4 (Василь)\n"
          ]
        }
      ]
    }
  ]
}